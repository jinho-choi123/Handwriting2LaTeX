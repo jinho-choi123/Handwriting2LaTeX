{
 "cells": [
  {
   "cell_type": "code",
   "execution_count": null,
   "id": "1c16718d-02ea-45e1-b5e0-b1e4c866a57a",
   "metadata": {},
   "outputs": [],
   "source": [
    "# Install MathWriting dataset "
   ]
  },
  {
   "cell_type": "code",
   "execution_count": 4,
   "id": "4f15c245-7674-4a6f-92c8-7c61093f2011",
   "metadata": {},
   "outputs": [
    {
     "name": "stderr",
     "output_type": "stream",
     "text": [
      "PROJECT_DIR: /Users/ball/Documents/workspace/latex-generator\n",
      "PROJECT_DIR: /Users/ball/Documents/workspace/latex-generator\n",
      "MODEL_DIR: /Users/ball/Documents/workspace/latex-generator/models\n",
      "MODEL_DIR: /Users/ball/Documents/workspace/latex-generator/models\n",
      "LOG_DIR: /Users/ball/Documents/workspace/latex-generator/logs\n",
      "LOG_DIR: /Users/ball/Documents/workspace/latex-generator/logs\n",
      "EPOCHS: 100\n",
      "EPOCHS: 100\n",
      "BATCH_SIZE: 64\n",
      "BATCH_SIZE: 64\n"
     ]
    }
   ],
   "source": [
    "%run ./config.ipynb"
   ]
  },
  {
   "cell_type": "code",
   "execution_count": 5,
   "id": "cbea4a7b-f7b2-4d72-9c4e-132c7c86d288",
   "metadata": {},
   "outputs": [
    {
     "name": "stdout",
     "output_type": "stream",
     "text": [
      "--2024-12-05 15:35:37--  https://storage.googleapis.com/mathwriting_data/mathwriting-2024.tgz\n",
      "storage.googleapis.com (storage.googleapis.com) 해석 중... 34.64.4.59, 34.64.4.91, 34.64.4.123, ...\n",
      "다음으로 연결 중: storage.googleapis.com (storage.googleapis.com)|34.64.4.59|:443... 연결했습니다.\n",
      "HTTP 요청을 보냈습니다. 응답 기다리는 중... 200 OK\n",
      "길이: 3096141721 (2.9G) [application/gzip]\n",
      "저장 위치: `/Users/ball/Documents/workspace/latex-generator/data/mathwriting-2024.tgz'\n",
      "\n",
      "mathwriting-2024.tg 100%[===================>]   2.88G  10.1MB/s    /  5m 18s  mathwriting-2024.tg  96%[==================> ]   2.77G  10.8MB/s    약 13s     \n",
      "\n",
      "2024-12-05 15:40:55 (9.29 MB/s) - `/Users/ball/Documents/workspace/latex-generator/data/mathwriting-2024.tgz' 저장함 [3096141721/3096141721]\n",
      "\n"
     ]
    }
   ],
   "source": [
    "# download tgz file of mathwriting\n",
    "!wget -P {data_dir} https://storage.googleapis.com/mathwriting_data/mathwriting-2024.tgz"
   ]
  },
  {
   "cell_type": "code",
   "execution_count": null,
   "id": "a2a3f1f8-d2ad-41ed-ae23-092f20c1fedd",
   "metadata": {},
   "outputs": [],
   "source": [
    "# unzip the mathwriting dataset\n",
    "!tar -xvzf {data_dir}/mathwriting-2024.tgz"
   ]
  }
 ],
 "metadata": {
  "kernelspec": {
   "display_name": "Python 3 (ipykernel)",
   "language": "python",
   "name": "python3"
  },
  "language_info": {
   "codemirror_mode": {
    "name": "ipython",
    "version": 3
   },
   "file_extension": ".py",
   "mimetype": "text/x-python",
   "name": "python",
   "nbconvert_exporter": "python",
   "pygments_lexer": "ipython3",
   "version": "3.11.10"
  }
 },
 "nbformat": 4,
 "nbformat_minor": 5
}
