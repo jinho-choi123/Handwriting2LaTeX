{
 "cells": [
  {
   "cell_type": "code",
   "execution_count": 6,
   "id": "bae3a66e-264c-4c4c-a9ea-134280a7ab54",
   "metadata": {},
   "outputs": [],
   "source": [
    "# Configuration\n",
    "import torch \n",
    "from datetime import datetime\n",
    "import logging \n",
    "from pathlib import Path \n",
    "import os"
   ]
  },
  {
   "cell_type": "code",
   "execution_count": 7,
   "id": "42c4c24e-f119-4631-942b-814f79897c46",
   "metadata": {},
   "outputs": [
    {
     "name": "stdout",
     "output_type": "stream",
     "text": [
      "project_dir: /Users/ball/Documents/workspace/latex-generator\n",
      "data_dir: /Users/ball/Documents/workspace/latex-generator/data\n",
      "model_dir: /Users/ball/Documents/workspace/latex-generator/models\n",
      "log_dir: /Users/ball/Documents/workspace/latex-generator/logs\n"
     ]
    }
   ],
   "source": [
    "# Configure Directory \n",
    "project_dir = Path(os.getcwd()).parent\n",
    "data_dir = project_dir / \"data\"\n",
    "model_dir = project_dir / \"models\"\n",
    "log_dir = project_dir / \"logs\"\n",
    "\n",
    "data_dir.mkdir(parents=True, exist_ok=True)\n",
    "model_dir.mkdir(parents=True, exist_ok=True)\n",
    "log_dir.mkdir(parents=True, exist_ok=True)\n",
    "print(f'project_dir: {project_dir}')\n",
    "print(f'data_dir: {data_dir}')\n",
    "print(f'model_dir: {model_dir}')\n",
    "print(f'log_dir: {log_dir}')"
   ]
  },
  {
   "cell_type": "code",
   "execution_count": 3,
   "id": "e457b773-8850-45a6-b262-f7abf4b57032",
   "metadata": {},
   "outputs": [],
   "source": [
    "# Configure logger \n",
    "timestamp = datetime.now().strftime('%Y%m%d_%H%M%S')\n",
    "log_file = log_dir / f'log_{timestamp}.log'\n",
    "\n",
    "logger = logging.getLogger('Handwriting2LaTeX')\n",
    "logger.setLevel(logging.INFO)\n",
    "\n",
    "file_handler = logging.FileHandler(log_file)\n",
    "file_handler.setLevel(logging.INFO)\n",
    "\n",
    "formatter = logging.Formatter('%(asctime)s - %(name)s - %(levelname)s - %(message)s')\n",
    "file_handler.setFormatter(formatter)\n",
    "\n",
    "logger.addHandler(file_handler)\n",
    "logger.addHandler(logging.StreamHandler())"
   ]
  },
  {
   "cell_type": "code",
   "execution_count": 4,
   "id": "6d0ac7ba-7a68-44c4-a06c-c24916769998",
   "metadata": {},
   "outputs": [
    {
     "name": "stderr",
     "output_type": "stream",
     "text": [
      "PROJECT_DIR: /Users/ball/Documents/workspace/latex-generator\n",
      "MODEL_DIR: /Users/ball/Documents/workspace/latex-generator/models\n",
      "LOG_DIR: /Users/ball/Documents/workspace/latex-generator/logs\n"
     ]
    }
   ],
   "source": [
    "# log the directory information \n",
    "logger.info(f'PROJECT_DIR: {project_dir}')\n",
    "logger.info(f'MODEL_DIR: {model_dir}')\n",
    "logger.info(f'LOG_DIR: {log_dir}')"
   ]
  },
  {
   "cell_type": "code",
   "execution_count": 5,
   "id": "8668751e-ca13-43e1-a96b-baf1d4a27a70",
   "metadata": {},
   "outputs": [
    {
     "name": "stderr",
     "output_type": "stream",
     "text": [
      "TIME_SAMPLING_DELTA: 30\n",
      "EPOCHS: 100\n",
      "BATCH_SIZE: 64\n",
      "IMG_SIZe: 256\n"
     ]
    }
   ],
   "source": [
    "# Define Parameter for InkML parsing \n",
    "TIME_SAMPLING_DELTA = 30\n",
    "SEQ_MAX = 500\n",
    "SEQ_MIN = -500\n",
    "PADDING = 4\n",
    "\n",
    "logger.info(f'TIME_SAMPLING_DELTA: {TIME_SAMPLING_DELTA}')\n",
    "\n",
    "# dataset, dataloader parameter\n",
    "NUM_WORKERS=2\n",
    "\n",
    "# Define Training parameters \n",
    "EPOCHS = 100\n",
    "BATCH_SIZE = 64\n",
    "IMG_SIZE = 256\n",
    "\n",
    "logger.info(f'EPOCHS: {EPOCHS}')\n",
    "logger.info(f'BATCH_SIZE: {BATCH_SIZE}')\n",
    "logger.info(f'IMG_SIZe: {IMG_SIZE}')"
   ]
  },
  {
   "cell_type": "code",
   "execution_count": null,
   "id": "da29a597-c858-49b0-869d-f74ad0b3b297",
   "metadata": {},
   "outputs": [],
   "source": []
  }
 ],
 "metadata": {
  "kernelspec": {
   "display_name": "Python 3 (ipykernel)",
   "language": "python",
   "name": "python3"
  },
  "language_info": {
   "codemirror_mode": {
    "name": "ipython",
    "version": 3
   },
   "file_extension": ".py",
   "mimetype": "text/x-python",
   "name": "python",
   "nbconvert_exporter": "python",
   "pygments_lexer": "ipython3",
   "version": "3.11.10"
  }
 },
 "nbformat": 4,
 "nbformat_minor": 5
}
