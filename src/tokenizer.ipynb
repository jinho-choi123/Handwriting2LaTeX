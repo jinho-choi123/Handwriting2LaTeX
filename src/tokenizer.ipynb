{
 "cells": [
  {
   "cell_type": "code",
   "execution_count": null,
   "id": "4452ac51-c43a-4aee-9c96-92a7cdb96ec0",
   "metadata": {},
   "outputs": [],
   "source": [
    "# in the paper, it says it only use 142 special latex symbols + 87 English characters\n",
    "# I added 2 more tokens for later use. \"<start>\", \"<end>\" token."
   ]
  },
  {
   "cell_type": "code",
   "execution_count": 1,
   "id": "93afc636-dcd5-4dce-aa02-de1c6d2c7f37",
   "metadata": {},
   "outputs": [],
   "source": [
    "%%capture \n",
    "%run config.ipynb"
   ]
  },
  {
   "cell_type": "code",
   "execution_count": 2,
   "id": "32250e54-f1ea-441f-8495-40c2d24456d5",
   "metadata": {},
   "outputs": [],
   "source": [
    "import re\n",
    "from pprint import pprint"
   ]
  },
  {
   "cell_type": "code",
   "execution_count": 3,
   "id": "91e311d1-f399-499b-b483-43bb29349bd3",
   "metadata": {},
   "outputs": [],
   "source": [
    "latex_tokens = [\"<start>\", \"<end>\", \"!\", \"&\", \"(\", \")\", \"*\", \"+\", \",\", \"-\", \".\", \"/\", \"0\", \"1\", \"2\", \"3\", \"4\", \"5\", \"6\", \"7\", \"8\", \"9\", \":\", \";\", \"¡\", \"=\", \"¿\", \"?\", \"A\", \"B\", \"C\", \"D\", \"E\", \"F\", \"G\", \"H\", \"I\", \"J\", \"K\", \"L\", \"M\", \"N\", \"O\", \"P\", \"Q\", \"R\", \"S\", \"T\", \"U\",\"V\", \"W\", \"X\", \"Y\", \"Z\", \"[\", r\"\\#\", r\"\\%\", r\"\\&\", r\"\\Delta\", r\"\\Gamma\", r\"\\Lambda\", r\"\\Leftrightarrow\", r\"\\Omega\", r\"\\Phi\", r\"\\Pi\", r\"\\Psi\", r\"\\Rightarrow\", r\"\\Sigma\", r\"\\Theta\", r\"\\Upsilon\", r\"\\Vdash\", r\"\\Xi\", r\"\\ \", r\"\\aleph\", r\"\\alpha\", r\"\\angle\", r\"\\approx\", r\"\\backslash\", r\"\\beginmatrix\", r\"\\beta\", r\"\\bigcap\", r\"\\bigcirc\", r\"\\bigcup\", r\"\\bigoplus\", r\"\\bigvee\", r\"\\bigwedge\", r\"\\bullet\", r\"\\cap\", r\"\\cdot\", r\"\\chi\", r\"\\circ\", r\"\\cong\", r\"\\cup\", r\"\\dagger\", r\"\\delta\", r\"\\div\", r\"\\dot\", r\"\\emptyset\", r\"\\endmatrix\", r\"\\epsilon\", r\"\\equiv\", r\"\\eta\", r\"\\exists\", r\"\\forall\", r\"\\frac\", r\"\\gamma\", r\"\\ge\", r\"\\gg\", r\"\\hat\", r\"\\hbar\", r\"\\hookrightarrow\", r\"\\iff\", r\"\\iint\", r\"\\in\", r\"\\infty\", r\"\\int\", r\"\\iota\", r\"\\kappa\", r\"\\lambda\", r\"\\langle\", r\"\\lceil\", r\"\\le\", r\"\\leftarrow\", r\"\\leftrightarrow\", r\"\\lfloor\", r\"\\ll\", r\"\\longrightarrow\", r\"\\mapsto\", r\"\\mathbb\", r\"\\models\", r\"\\mp\", r\"\\mu\", r\"\\nabla\", r\"\\ne\", r\"\\neg\", r\"\\ni\", r\"\\not\", r\"\\notin\", r\"\\nu\", r\"\\odot\", r\"\\oint\", r\"\\omega\", r\"\\ominus\", r\"\\oplus\", r\"\\otimes\", r\"\\overline\", r\"\\partial\", r\"\\perp\", r\"\\phi\", r\"\\pi\", r\"\\pm\", r\"\\prime\", r\"\\prod\", r\"\\propto\", r\"\\psi\", r\"\\rangle\", r\"\\rceil\", r\"\\rfloor\", r\"\\rho\", r\"\\rightarrow\", r\"\\rightleftharpoons\", r\"\\sigma\", r\"\\sim\", r\"\\simeq\", r\"\\sqrt\", r\"\\sqsubseteq\", r\"\\subset\", r\"\\subseteq\", r\"\\subsetneq\", r\"\\sum\", r\"\\supset\", r\"\\supseteq\", r\"\\tau\", r\"\\theta\", r\"\\tilde\", r\"\\times\", r\"\\top\", r\"\\triangle\", r\"\\triangleleft\", r\"\\triangleq\", r\"\\underline\", r\"\\upsilon\", r\"\\varphi\", r\"\\varpi\", r\"\\varsigma\", r\"\\vartheta\", r\"\\vdash\", r\"\\vdots\", r\"\\vec\", r\"\\vee\", r\"\\wedge\", r\"\\xi\", r\"\\zeta\", r\"\\{\", r\"\\—\", r\"\\}\", \"]\", \"ˆ\", \" \", \"a\", \"b\", \"c\", \"d\", \"e\", \"f\", \"g\", \"h\", \"i\", \"j\", \"k\", \"l\", \"m\", \"n\", \"o\", \"p\", \"q\", \"r\", \"s\", \"t\", \"u\", \"v\", \"w\", \"x\", \"y\", \"z\", \"{\", \"|\", \"}\", \"\\\\\" ]\n",
    "\n",
    "# define ink_seq_tokens -500 ~ 500, and <stroke>\n",
    "ink_seq_tokens = [\"<stroke> \"]\n",
    "for i in range(SEQ_MIN, SEQ_MAX):\n",
    "    ink_seq_tokens.append(str(i)+' ')"
   ]
  },
  {
   "cell_type": "code",
   "execution_count": 4,
   "id": "a8b6bf74-91ec-4546-aece-774953cf2c40",
   "metadata": {},
   "outputs": [],
   "source": [
    "enc_pattern = '|'.join(re.escape(token) for token in ink_seq_tokens)\n",
    "dec_pattern = '|'.join(re.escape(token) for token in latex_tokens)\n",
    "\n",
    "enc_id2token = dict()\n",
    "dec_id2token = dict()\n",
    "enc_token2id = dict()\n",
    "dec_token2id = dict()\n",
    "\n",
    "for i in range(len(ink_seq_tokens)):\n",
    "    enc_token2id[ink_seq_tokens[i]] = i\n",
    "    enc_id2token[i] = ink_seq_tokens[i]\n",
    "\n",
    "for i in range(len(latex_tokens)):\n",
    "    dec_token2id[latex_tokens[i]] = i\n",
    "    dec_id2token[i] = latex_tokens[i]\n",
    "\n",
    "def enc_tokenize(input_string):\n",
    "    return re.findall(enc_pattern, input_string)\n",
    "\n",
    "def dec_tokenize(input_string):\n",
    "    return re.findall(dec_pattern, input_string)\n",
    "\n",
    "def enc_tokens2ids(tokens):\n",
    "    ids = []\n",
    "    for token in tokens:\n",
    "        ids.append(enc_token2id[token])\n",
    "    return ids\n",
    "\n",
    "def dec_tokens2ids(tokens):\n",
    "    ids = []\n",
    "    for token in tokens:\n",
    "        ids.append(dec_token2id[token])\n",
    "    return ids\n",
    "\n",
    "def enc_ids2tokens(ids):\n",
    "    tokens = []\n",
    "    for idx in ids:\n",
    "        tokens.append(enc_id2token[idx])\n",
    "    return tokens\n",
    "\n",
    "def dec_ids2tokens(ids):\n",
    "    tokens = []\n",
    "    for idx in ids:\n",
    "        tokens.append(dec_id2token[idx])\n",
    "    return tokens"
   ]
  },
  {
   "cell_type": "code",
   "execution_count": 5,
   "id": "979843f9-8a44-4907-9870-7693a32d9798",
   "metadata": {},
   "outputs": [
    {
     "name": "stdout",
     "output_type": "stream",
     "text": [
      "tokens ['\\\\langle', ' ', 'P', 'u', ',', 'u', '\\\\rangle', '0', ',', '\\\\forall', ' ', 'u', '\\\\ne', '0']\n",
      "token_ids [119, 198, 43, 219, 8, 219, 155, 12, 8, 103, 198, 219, 133, 12]\n"
     ]
    }
   ],
   "source": [
    "# TEST PURPOSE\n",
    "input_string = \"\\\\langle Pu,u\\\\rangle>0,\\\\forall u\\\\ne0\"\n",
    "tokens= dec_tokenize(input_string)\n",
    "print(f'tokens {tokens}')\n",
    "print(f'token_ids {dec_tokens2ids(tokens)}')"
   ]
  },
  {
   "cell_type": "code",
   "execution_count": 6,
   "id": "ef5bf594-4ed9-412f-8d4e-252d5d9dd0d3",
   "metadata": {},
   "outputs": [
    {
     "name": "stdout",
     "output_type": "stream",
     "text": [
      "tokens ['<stroke> ', '6 ', '53 ', '-1 ', '0 ', '-2 ', '3 ', '-2 ', '23 ', '-1 ', '60 ', '1 ', '93 ', '1 ', '111 ', '1 ', '113 ', '<stroke> ', '34 ', '85 ', '-2 ', '-1 ', '-5 ', '0 ', '-8 ', '1 ', '-9 ', '6 ', '-6 ', '19 ', '-2 ', '31 ', '3 ', '43 ', '6 ', '50 ', '6 ', '57 ', '3 ', '65 ', '-2 ', '67 ', '-5 ', '63 ', '<stroke> ', '57 ', '54 ', '-1 ', '2 ', '-2 ', '18 ', '-4 ', '52 ', '-5 ', '81 ', '-5 ', '100 ', '-4 ', '109 ', '<stroke> ', '83 ', '77 ', '-1 ', '2 ', '-4 ', '9 ', '-10 ', '17 ', '-11 ', '22 ', '-10 ', '30 ', '-6 ', '40 ', '-1 ', '47 ', '3 ', '51 ', '<stroke> ', '71 ', '134 ', '2 ', '2 ', '10 ', '13 ', '<stroke> ', '121 ', '6 ', '-1 ', '3 ', '-6 ', '21 ', '-13 ', '52 ', '-18 ', '92 ', '-19 ', '136 ', '-16 ', '175 ', '-10 ', '203 ', '-2 ', '227 ', '5 ', '238 ', '<stroke> ', '140 ', '28 ', '-1 ', '6 ', '-1 ', '21 ', '-2 ', '34 ', '-2 ', '40 ', '-2 ', '33 ', '-1 ', '9 ', '1 ', '-6 ', '5 ', '-12 ', '7 ', '-11 ', '9 ', '-2 ', '10 ', '20 ', '10 ', '35 ', '11 ', '42 ', '<stroke> ', '130 ', '142 ', '0 ', '5 ', '0 ', '17 ', '-1 ', '41 ', '-3 ', '63 ', '-4 ', '75 ', '-4 ', '77 ', '-2 ', '78 ', '2 ', '77 ', '5 ', '77 ', '<stroke> ', '152 ', '177 ', '0 ', '3 ', '0 ', '12 ', '0 ', '22 ', '0 ', '28 ', '-1 ', '24 ', '-1 ', '5 ', '0 ', '-5 ', '3 ', '-9 ', '5 ', '-6 ', '5 ', '5 ', '5 ', '21 ', '5 ', '29 ', '<stroke> ', '184 ', '149 ', '0 ', '2 ', '0 ', '9 ', '-2 ', '24 ', '-6 ', '50 ', '-9 ', '70 ', '-9 ', '78 ', '<stroke> ', '195 ', '175 ', '-1 ', '-5 ', '0 ']\n",
      "token_ids [0, 507, 554, 500, 501, 499, 504, 499, 524, 500, 561, 502, 594, 502, 612, 502, 614, 0, 535, 586, 499, 500, 496, 501, 493, 502, 492, 507, 495, 520, 499, 532, 504, 544, 507, 551, 507, 558, 504, 566, 499, 568, 496, 564, 0, 558, 555, 500, 503, 499, 519, 497, 553, 496, 582, 496, 601, 497, 610, 0, 584, 578, 500, 503, 497, 510, 491, 518, 490, 523, 491, 531, 495, 541, 500, 548, 504, 552, 0, 572, 635, 503, 503, 511, 514, 0, 622, 507, 500, 504, 495, 522, 488, 553, 483, 593, 482, 637, 485, 676, 491, 704, 499, 728, 506, 739, 0, 641, 529, 500, 507, 500, 522, 499, 535, 499, 541, 499, 534, 500, 510, 502, 495, 506, 489, 508, 490, 510, 499, 511, 521, 511, 536, 512, 543, 0, 631, 643, 501, 506, 501, 518, 500, 542, 498, 564, 497, 576, 497, 578, 499, 579, 503, 578, 506, 578, 0, 653, 678, 501, 504, 501, 513, 501, 523, 501, 529, 500, 525, 500, 506, 501, 496, 504, 492, 506, 495, 506, 506, 506, 522, 506, 530, 0, 685, 650, 501, 503, 501, 510, 499, 525, 495, 551, 492, 571, 492, 579, 0, 696, 676, 500, 496, 501]\n"
     ]
    }
   ],
   "source": [
    "# TEST PURPOSE\n",
    "input_string = \"<stroke> 6 53 -1 0 -2 3 -2 23 -1 60 1 93 1 111 1 113 <stroke> 34 85 -2 -1 -5 0 -8 1 -9 6 -6 19 -2 31 3 43 6 50 6 57 3 65 -2 67 -5 63 <stroke> 57 54 -1 2 -2 18 -4 52 -5 81 -5 100 -4 109 <stroke> 83 77 -1 2 -4 9 -10 17 -11 22 -10 30 -6 40 -1 47 3 51 <stroke> 71 134 2 2 10 13 <stroke> 121 6 -1 3 -6 21 -13 52 -18 92 -19 136 -16 175 -10 203 -2 227 5 238 <stroke> 140 28 -1 6 -1 21 -2 34 -2 40 -2 33 -1 9 1 -6 5 -12 7 -11 9 -2 10 20 10 35 11 42 <stroke> 130 142 0 5 0 17 -1 41 -3 63 -4 75 -4 77 -2 78 2 77 5 77 <stroke> 152 177 0 3 0 12 0 22 0 28 -1 24 -1 5 0 -5 3 -9 5 -6 5 5 5 21 5 29 <stroke> 184 149 0 2 0 9 -2 24 -6 50 -9 70 -9 78 <stroke> 195 175 -1 -5 0 \"\n",
    "tokens= enc_tokenize(input_string)\n",
    "print(f'tokens {tokens}')\n",
    "print(f'token_ids {enc_tokens2ids(tokens)}')"
   ]
  },
  {
   "cell_type": "code",
   "execution_count": null,
   "id": "45f625ae-f499-4795-b795-5012241acdad",
   "metadata": {},
   "outputs": [],
   "source": []
  }
 ],
 "metadata": {
  "kernelspec": {
   "display_name": "Python 3 (ipykernel)",
   "language": "python",
   "name": "python3"
  },
  "language_info": {
   "codemirror_mode": {
    "name": "ipython",
    "version": 3
   },
   "file_extension": ".py",
   "mimetype": "text/x-python",
   "name": "python",
   "nbconvert_exporter": "python",
   "pygments_lexer": "ipython3",
   "version": "3.11.10"
  }
 },
 "nbformat": 4,
 "nbformat_minor": 5
}
