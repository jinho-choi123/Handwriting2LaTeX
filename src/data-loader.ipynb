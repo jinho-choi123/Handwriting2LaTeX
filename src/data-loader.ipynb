{
 "cells": [
  {
   "cell_type": "code",
   "execution_count": null,
   "id": "1c16718d-02ea-45e1-b5e0-b1e4c866a57a",
   "metadata": {},
   "outputs": [],
   "source": [
    "# Install MathWriting dataset "
   ]
  },
  {
   "cell_type": "code",
   "execution_count": 4,
   "id": "4f15c245-7674-4a6f-92c8-7c61093f2011",
   "metadata": {},
   "outputs": [
    {
     "name": "stderr",
     "output_type": "stream",
     "text": [
      "PROJECT_DIR: /Users/ball/Documents/workspace/latex-generator\n",
      "PROJECT_DIR: /Users/ball/Documents/workspace/latex-generator\n",
      "MODEL_DIR: /Users/ball/Documents/workspace/latex-generator/models\n",
      "MODEL_DIR: /Users/ball/Documents/workspace/latex-generator/models\n",
      "LOG_DIR: /Users/ball/Documents/workspace/latex-generator/logs\n",
      "LOG_DIR: /Users/ball/Documents/workspace/latex-generator/logs\n",
      "EPOCHS: 100\n",
      "EPOCHS: 100\n",
      "BATCH_SIZE: 64\n",
      "BATCH_SIZE: 64\n"
     ]
    }
   ],
   "source": [
    "%run ./config.ipynb"
   ]
  },
  {
   "cell_type": "code",
   "execution_count": null,
   "id": "30e55ff6-1c1e-4862-afad-eb43f562f5ce",
   "metadata": {},
   "outputs": [],
   "source": [
    "import torch \n",
    "from torch.utils.data import Dataset, DataLoader\n",
    "\n"
   ]
  }
 ],
 "metadata": {
  "kernelspec": {
   "display_name": "Python 3 (ipykernel)",
   "language": "python",
   "name": "python3"
  },
  "language_info": {
   "codemirror_mode": {
    "name": "ipython",
    "version": 3
   },
   "file_extension": ".py",
   "mimetype": "text/x-python",
   "name": "python",
   "nbconvert_exporter": "python",
   "pygments_lexer": "ipython3",
   "version": "3.11.10"
  }
 },
 "nbformat": 4,
 "nbformat_minor": 5
}
