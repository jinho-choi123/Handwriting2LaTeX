{
 "cells": [
  {
   "cell_type": "code",
   "execution_count": null,
   "id": "1c16718d-02ea-45e1-b5e0-b1e4c866a57a",
   "metadata": {},
   "outputs": [],
   "source": [
    "# Install MathWriting dataset "
   ]
  },
  {
   "cell_type": "code",
   "execution_count": 48,
   "id": "4f15c245-7674-4a6f-92c8-7c61093f2011",
   "metadata": {},
   "outputs": [
    {
     "name": "stderr",
     "output_type": "stream",
     "text": [
      "PROJECT_DIR: /Users/ball/Documents/workspace/latex-generator\n",
      "PROJECT_DIR: /Users/ball/Documents/workspace/latex-generator\n",
      "MODEL_DIR: /Users/ball/Documents/workspace/latex-generator/models\n",
      "MODEL_DIR: /Users/ball/Documents/workspace/latex-generator/models\n",
      "LOG_DIR: /Users/ball/Documents/workspace/latex-generator/logs\n",
      "LOG_DIR: /Users/ball/Documents/workspace/latex-generator/logs\n",
      "TIME_SAMPLING_DELTA: 30\n",
      "TIME_SAMPLING_DELTA: 30\n",
      "EPOCHS: 100\n",
      "EPOCHS: 100\n",
      "BATCH_SIZE: 64\n",
      "BATCH_SIZE: 64\n",
      "IMG_SIZe: 256\n",
      "IMG_SIZe: 256\n",
      "PROJECT_DIR: /Users/ball/Documents/workspace/latex-generator\n",
      "PROJECT_DIR: /Users/ball/Documents/workspace/latex-generator\n",
      "MODEL_DIR: /Users/ball/Documents/workspace/latex-generator/models\n",
      "MODEL_DIR: /Users/ball/Documents/workspace/latex-generator/models\n",
      "LOG_DIR: /Users/ball/Documents/workspace/latex-generator/logs\n",
      "LOG_DIR: /Users/ball/Documents/workspace/latex-generator/logs\n",
      "TIME_SAMPLING_DELTA: 30\n",
      "TIME_SAMPLING_DELTA: 30\n",
      "EPOCHS: 100\n",
      "EPOCHS: 100\n",
      "BATCH_SIZE: 64\n",
      "BATCH_SIZE: 64\n",
      "IMG_SIZe: 256\n",
      "IMG_SIZe: 256\n"
     ]
    }
   ],
   "source": [
    "%%capture\n",
    "%run ./config.ipynb\n",
    "%run InkML-parser.ipynb"
   ]
  },
  {
   "cell_type": "code",
   "execution_count": 46,
   "id": "30e55ff6-1c1e-4862-afad-eb43f562f5ce",
   "metadata": {},
   "outputs": [],
   "source": [
    "import torch \n",
    "from torch.utils.data import Dataset, DataLoader\n",
    "from torchvision import transforms\n",
    "import os\n",
    "import numpy as np\n",
    "import time\n",
    "import matplotlib.pyplot as plt\n",
    "\n",
    "class MathWritingDataset(Dataset):\n",
    "    def __init__(self, dataset_dir, data_types=[\"train\", \"symbols\", \"synthetic\"], transform=None):\n",
    "        self.dataset_dir = dataset_dir\n",
    "        self.types = data_types\n",
    "        self.filenames = []\n",
    "        self.transform = transform\n",
    "        for type_ in self.types:\n",
    "            filename = [f'{type_}/{f.name}' for f in (self.dataset_dir / type_).glob(\"*.inkml\")]\n",
    "            self.filenames.extend(filename)\n",
    "        \n",
    "    def __len__(self):\n",
    "        return len(self.filenames)\n",
    "\n",
    "    def __getitem__(self, idx):\n",
    "        # start = time.time()\n",
    "        assert type(idx) == int\n",
    "        target_file_path = self.dataset_dir / self.filenames[idx]\n",
    "\n",
    "        # read inkml file \n",
    "        ink = read_inkml_file(target_file_path)\n",
    "\n",
    "        # generate ink sequence \n",
    "        text_sequence = get_ink_sequence_token(ink, TIME_SAMPLING_DELTA)\n",
    "\n",
    "        image = get_ink_image(ink, IMG_SIZE)\n",
    "            \n",
    "\n",
    "        label = ink.annotations['normalizedLabel']\n",
    "\n",
    "        sample = {'image': image, 'text': text_sequence, 'label': label}\n",
    "\n",
    "        if self.transform:\n",
    "            sample = self.transform(sample)\n",
    "\n",
    "        # print(f'time taken to load one data: {time.time() - start}s')\n",
    "\n",
    "        return sample\n"
   ]
  },
  {
   "cell_type": "code",
   "execution_count": 47,
   "id": "ae4abe93-4fd1-4f30-afcc-e9d664a34cd3",
   "metadata": {},
   "outputs": [
    {
     "name": "stdout",
     "output_type": "stream",
     "text": [
      "{'image': array([[[255, 255, 255],\n",
      "        [255, 255, 255],\n",
      "        [255, 255, 255],\n",
      "        ...,\n",
      "        [255, 255, 255],\n",
      "        [255, 255, 255],\n",
      "        [255, 255, 255]],\n",
      "\n",
      "       [[255, 255, 255],\n",
      "        [255, 255, 255],\n",
      "        [255, 255, 255],\n",
      "        ...,\n",
      "        [255, 255, 255],\n",
      "        [255, 255, 255],\n",
      "        [255, 255, 255]],\n",
      "\n",
      "       [[255, 255, 255],\n",
      "        [255, 255, 255],\n",
      "        [255, 255, 255],\n",
      "        ...,\n",
      "        [255, 255, 255],\n",
      "        [255, 255, 255],\n",
      "        [255, 255, 255]],\n",
      "\n",
      "       ...,\n",
      "\n",
      "       [[255, 255, 255],\n",
      "        [255, 255, 255],\n",
      "        [255, 255, 255],\n",
      "        ...,\n",
      "        [255, 255, 255],\n",
      "        [255, 255, 255],\n",
      "        [255, 255, 255]],\n",
      "\n",
      "       [[255, 255, 255],\n",
      "        [255, 255, 255],\n",
      "        [255, 255, 255],\n",
      "        ...,\n",
      "        [255, 255, 255],\n",
      "        [255, 255, 255],\n",
      "        [255, 255, 255]],\n",
      "\n",
      "       [[255, 255, 255],\n",
      "        [255, 255, 255],\n",
      "        [255, 255, 255],\n",
      "        ...,\n",
      "        [255, 255, 255],\n",
      "        [255, 255, 255],\n",
      "        [255, 255, 255]]], dtype=uint8), 'text': '<stroke> 4 68 3 52 4 107 3 150 2 179 <stroke> 14 81 3 22 9 55 18 72 33 58 48 16 54 9 51 84 53 134 57 147 63 138 <stroke> 100 143 2 2 12 4 21 5 <stroke> 101 193 1 1 13 -1 <stroke> 172 91 1 12 4 77 5 116 5 137 <stroke> 184 79 0 2 1 70 1 103 0 130 <stroke> 165 110 1 -3 19 -31 33 -38 39 -26 33 -1 21 22 14 35 15 36 23 29 32 30 40 66 45 91 62 102 73 108 78 111 <stroke> 211 4 2 2 5 12 8 27 12 30 18 18 23 14 27 28 32 45 41 45 ', 'label': 'M=\\\\mathbb{R}^{n}'}\n"
     ]
    },
    {
     "data": {
      "text/plain": [
       "<Figure size 640x480 with 0 Axes>"
      ]
     },
     "metadata": {},
     "output_type": "display_data"
    }
   ],
   "source": [
    "# TEST PURPOSE\n",
    "tmp_dataset = MathWritingDataset(data_dir / \"mathwriting-2024-excerpt\")\n",
    "print(tmp_dataset[0])\n",
    "\n",
    "# show image \n",
    "# plt.axis('off')\n",
    "# plt.imshow(tmp_dataset[0]['image'])"
   ]
  },
  {
   "cell_type": "code",
   "execution_count": 49,
   "id": "6f986cb6-2e56-4776-b413-e8e35f27ec26",
   "metadata": {},
   "outputs": [],
   "source": [
    "train_transform = transforms.Compose([\n",
    "    transforms.ToTensor(),\n",
    "])\n",
    "\n",
    "test_transform = transforms.Compose([\n",
    "    transforms.ToTensor(),\n",
    "])\n",
    "\n",
    "train_dataset = MathWritingDataset(data_dir / \"mathwriting-2024-excerpt\", data_types=[\"train\", \"symbols\", \"synthetic\"], transform=train_transform)\n",
    "test_dataset = MathWritingDataset(data_dir / \"mathwriting-2024-excerpt\", data_types=[\"test\"], transform=test_transform)\n",
    "\n",
    "train_dataloader = DataLoader(train_dataset, batch_size=BATCH_SIZE, shuffle=True, num_workers=NUM_WORKERS)\n",
    "test_dataloader = DataLoader(test_dataset, batch_size=BATCH_SIZE, shuffle=False, num_workers=NUM_WORKERS)\n"
   ]
  },
  {
   "cell_type": "code",
   "execution_count": null,
   "id": "af0afba6-c99b-47f1-95ec-c4f56eef41c2",
   "metadata": {},
   "outputs": [],
   "source": []
  }
 ],
 "metadata": {
  "kernelspec": {
   "display_name": "Python 3 (ipykernel)",
   "language": "python",
   "name": "python3"
  },
  "language_info": {
   "codemirror_mode": {
    "name": "ipython",
    "version": 3
   },
   "file_extension": ".py",
   "mimetype": "text/x-python",
   "name": "python",
   "nbconvert_exporter": "python",
   "pygments_lexer": "ipython3",
   "version": "3.11.10"
  }
 },
 "nbformat": 4,
 "nbformat_minor": 5
}
